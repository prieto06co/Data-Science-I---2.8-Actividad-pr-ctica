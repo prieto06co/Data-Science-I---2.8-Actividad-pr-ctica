{
  "nbformat": 4,
  "nbformat_minor": 0,
  "metadata": {
    "colab": {
      "provenance": [],
      "authorship_tag": "ABX9TyOZbJIvWcKiB3JFOy6nsnPj",
      "include_colab_link": true
    },
    "kernelspec": {
      "name": "python3",
      "display_name": "Python 3"
    },
    "language_info": {
      "name": "python"
    }
  },
  "cells": [
    {
      "cell_type": "markdown",
      "metadata": {
        "id": "view-in-github",
        "colab_type": "text"
      },
      "source": [
        "<a href=\"https://colab.research.google.com/github/prieto06co/Data-Science-I---2.8-Actividad-pr-ctica/blob/main/Data_Science_I_2_8_Actividad_pr%C3%A1ctica.ipynb\" target=\"_parent\"><img src=\"https://colab.research.google.com/assets/colab-badge.svg\" alt=\"Open In Colab\"/></a>"
      ]
    },
    {
      "cell_type": "markdown",
      "source": [
        "Importarción de Librerias"
      ],
      "metadata": {
        "id": "m0oMPEmwNvSZ"
      }
    },
    {
      "cell_type": "code",
      "source": [
        "from google.colab import drive\n",
        "import pandas as pd"
      ],
      "metadata": {
        "id": "3xTrIfEZbGqz"
      },
      "execution_count": 1,
      "outputs": []
    },
    {
      "cell_type": "markdown",
      "source": [
        "Ruta raíz de fuentes"
      ],
      "metadata": {
        "id": "pLg_H5OAbJkJ"
      }
    },
    {
      "cell_type": "code",
      "source": [
        "drive.mount('/content/drive')\n",
        "print(\"Google Drive montado exitosamente en /content/drive\")"
      ],
      "metadata": {
        "colab": {
          "base_uri": "https://localhost:8080/"
        },
        "id": "W8KQg5OKbRGw",
        "outputId": "4fe8e18c-3807-49df-d9db-0bc67d9de09c"
      },
      "execution_count": 2,
      "outputs": [
        {
          "output_type": "stream",
          "name": "stdout",
          "text": [
            "Mounted at /content/drive\n",
            "Google Drive montado exitosamente en /content/drive\n"
          ]
        }
      ]
    },
    {
      "cell_type": "markdown",
      "source": [
        "Lectura de Fuentes"
      ],
      "metadata": {
        "id": "hlFqaIC_rRPF"
      }
    },
    {
      "cell_type": "code",
      "source": [
        "# --- 1. Dataset de Datos de Películas (TMDB 5000 Movie Dataset) ---\n",
        "# Reemplaza 'Ruta/a/tu/carpeta/en/Drive/' con la ubicación real de tu archivo\n",
        "ruta_movies = '/content/drive/My Drive/Fuentes_Data/tmdb_5000_movies.csv'\n",
        "try:\n",
        "    df_movies = pd.read_csv(ruta_movies)\n",
        "    print(f\"\\nDataset de Películas cargado. Filas: {df_movies.shape[0]}, Columnas: {df_movies.shape[1]}\")\n",
        "    print(df_movies.head(2))\n",
        "except FileNotFoundError:\n",
        "    print(f\"\\nError: Archivo '{ruta_movies}' no encontrado. Verifica la ruta en tu Google Drive.\")\n",
        "except Exception as e:\n",
        "    print(f\"\\nError al cargar el dataset de películas: {e}\")\n",
        "\n",
        "# --- 2. Dataset de Detección de Fraude en Tarjetas de Crédito ---\n",
        "# Reemplaza 'Ruta/a/tu/carpeta/en/Drive/' con la ubicación real de tu archivo\n",
        "ruta_fraud = '/content/drive/My Drive/Fuentes_Data/creditcard.csv'\n",
        "try:\n",
        "    df_fraud = pd.read_csv(ruta_fraud)\n",
        "    print(f\"\\nDataset de Fraude cargado. Filas: {df_fraud.shape[0]}, Columnas: {df_fraud.shape[1]}\")\n",
        "    print(df_fraud.head(2))\n",
        "except FileNotFoundError:\n",
        "    print(f\"\\nError: Archivo '{ruta_fraud}' no encontrado. Verifica la ruta en tu Google Drive.\")\n",
        "except Exception as e:\n",
        "    print(f\"\\nError al cargar el dataset de fraude: {e}\")\n",
        "\n",
        "# --- 3. Dataset de Churn de Clientes de Telco (Telco Customer Churn) ---\n",
        "# Reemplaza 'Ruta/a/tu/carpeta/en/Drive/' con la ubicación real de tu archivo\n",
        "ruta_telco = '/content/drive/My Drive/Fuentes_Data/WA_Fn-UseC_-Telco-Customer-Churn.csv'\n",
        "try:\n",
        "    df_telco = pd.read_csv(ruta_telco)\n",
        "    print(f\"\\nDataset de Telco Churn cargado. Filas: {df_telco.shape[0]}, Columnas: {df_telco.shape[1]}\")\n",
        "    print(df_telco.head(2))\n",
        "except FileNotFoundError:\n",
        "    print(f\"\\nError: Archivo '{ruta_telco}' no encontrado. Verifica la ruta en tu Google Drive.\")\n",
        "except Exception as e:\n",
        "    print(f\"\\nError al cargar el dataset de telco: {e}\")"
      ],
      "metadata": {
        "colab": {
          "base_uri": "https://localhost:8080/"
        },
        "id": "KsFni8zsrUCS",
        "outputId": "55109053-b866-4776-fa0f-6a732494df98"
      },
      "execution_count": 3,
      "outputs": [
        {
          "output_type": "stream",
          "name": "stdout",
          "text": [
            "\n",
            "Dataset de Películas cargado. Filas: 4803, Columnas: 20\n",
            "      budget                                             genres  \\\n",
            "0  237000000  [{\"id\": 28, \"name\": \"Action\"}, {\"id\": 12, \"nam...   \n",
            "1  300000000  [{\"id\": 12, \"name\": \"Adventure\"}, {\"id\": 14, \"...   \n",
            "\n",
            "                                       homepage     id  \\\n",
            "0                   http://www.avatarmovie.com/  19995   \n",
            "1  http://disney.go.com/disneypictures/pirates/    285   \n",
            "\n",
            "                                            keywords original_language  \\\n",
            "0  [{\"id\": 1463, \"name\": \"culture clash\"}, {\"id\":...                en   \n",
            "1  [{\"id\": 270, \"name\": \"ocean\"}, {\"id\": 726, \"na...                en   \n",
            "\n",
            "                             original_title  \\\n",
            "0                                    Avatar   \n",
            "1  Pirates of the Caribbean: At World's End   \n",
            "\n",
            "                                            overview  popularity  \\\n",
            "0  In the 22nd century, a paraplegic Marine is di...  150.437577   \n",
            "1  Captain Barbossa, long believed to be dead, ha...  139.082615   \n",
            "\n",
            "                                production_companies  \\\n",
            "0  [{\"name\": \"Ingenious Film Partners\", \"id\": 289...   \n",
            "1  [{\"name\": \"Walt Disney Pictures\", \"id\": 2}, {\"...   \n",
            "\n",
            "                                production_countries release_date     revenue  \\\n",
            "0  [{\"iso_3166_1\": \"US\", \"name\": \"United States o...   2009-12-10  2787965087   \n",
            "1  [{\"iso_3166_1\": \"US\", \"name\": \"United States o...   2007-05-19   961000000   \n",
            "\n",
            "   runtime                                   spoken_languages    status  \\\n",
            "0    162.0  [{\"iso_639_1\": \"en\", \"name\": \"English\"}, {\"iso...  Released   \n",
            "1    169.0           [{\"iso_639_1\": \"en\", \"name\": \"English\"}]  Released   \n",
            "\n",
            "                                          tagline  \\\n",
            "0                     Enter the World of Pandora.   \n",
            "1  At the end of the world, the adventure begins.   \n",
            "\n",
            "                                      title  vote_average  vote_count  \n",
            "0                                    Avatar           7.2       11800  \n",
            "1  Pirates of the Caribbean: At World's End           6.9        4500  \n",
            "\n",
            "Dataset de Fraude cargado. Filas: 284807, Columnas: 31\n",
            "   Time        V1        V2        V3        V4        V5        V6        V7  \\\n",
            "0   0.0 -1.359807 -0.072781  2.536347  1.378155 -0.338321  0.462388  0.239599   \n",
            "1   0.0  1.191857  0.266151  0.166480  0.448154  0.060018 -0.082361 -0.078803   \n",
            "\n",
            "         V8        V9  ...       V21       V22       V23       V24       V25  \\\n",
            "0  0.098698  0.363787  ... -0.018307  0.277838 -0.110474  0.066928  0.128539   \n",
            "1  0.085102 -0.255425  ... -0.225775 -0.638672  0.101288 -0.339846  0.167170   \n",
            "\n",
            "        V26       V27       V28  Amount  Class  \n",
            "0 -0.189115  0.133558 -0.021053  149.62      0  \n",
            "1  0.125895 -0.008983  0.014724    2.69      0  \n",
            "\n",
            "[2 rows x 31 columns]\n",
            "\n",
            "Dataset de Telco Churn cargado. Filas: 7043, Columnas: 21\n",
            "   customerID  gender  SeniorCitizen Partner Dependents  tenure PhoneService  \\\n",
            "0  7590-VHVEG  Female              0     Yes         No       1           No   \n",
            "1  5575-GNVDE    Male              0      No         No      34          Yes   \n",
            "\n",
            "      MultipleLines InternetService OnlineSecurity  ... DeviceProtection  \\\n",
            "0  No phone service             DSL             No  ...               No   \n",
            "1                No             DSL            Yes  ...              Yes   \n",
            "\n",
            "  TechSupport StreamingTV StreamingMovies        Contract PaperlessBilling  \\\n",
            "0          No          No              No  Month-to-month              Yes   \n",
            "1          No          No              No        One year               No   \n",
            "\n",
            "      PaymentMethod MonthlyCharges  TotalCharges Churn  \n",
            "0  Electronic check          29.85         29.85    No  \n",
            "1      Mailed check          56.95        1889.5    No  \n",
            "\n",
            "[2 rows x 21 columns]\n"
          ]
        }
      ]
    }
  ]
}